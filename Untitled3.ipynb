{
  "nbformat": 4,
  "nbformat_minor": 0,
  "metadata": {
    "colab": {
      "provenance": [],
      "authorship_tag": "ABX9TyM5zcF5ns69GmnZGWNL6lgA",
      "include_colab_link": true
    },
    "kernelspec": {
      "name": "python3",
      "display_name": "Python 3"
    },
    "language_info": {
      "name": "python"
    }
  },
  "cells": [
    {
      "cell_type": "markdown",
      "metadata": {
        "id": "view-in-github",
        "colab_type": "text"
      },
      "source": [
        "<a href=\"https://colab.research.google.com/github/Almir-henrique/Estudos_Python/blob/main/Untitled3.ipynb\" target=\"_parent\"><img src=\"https://colab.research.google.com/assets/colab-badge.svg\" alt=\"Open In Colab\"/></a>"
      ]
    },
    {
      "cell_type": "code",
      "execution_count": 3,
      "metadata": {
        "colab": {
          "base_uri": "https://localhost:8080/"
        },
        "id": "rdfnIHGnqYNl",
        "outputId": "8a499ed6-7524-4af8-cb9e-4270603612f6"
      },
      "outputs": [
        {
          "output_type": "stream",
          "name": "stdout",
          "text": [
            "<class 'float'>\n"
          ]
        }
      ],
      "source": [
        "# ETE CÍCERO DIAS\n",
        "# DOCENTE: ALMIR HENRIQUE\n",
        "# ESTUDANTE: ...\n",
        "# PNT - TIPOS PRIMITIVOS DE DADOS\n",
        "#print('Olá mundo!')\n",
        "\n",
        "c = 9.9\n",
        "print(type(c))\n"
      ]
    },
    {
      "cell_type": "code",
      "source": [
        "# 3. Operadores Aritméticos - Python\n",
        "# 16 - 1\n",
        "# 15 + 4\n",
        "# 10 ** 5\n",
        "# 5 * 15\n",
        "# 13 // 3\n",
        "# 13 /  3\n",
        "# 20 % 2\n",
        "\n",
        "#c = 10 ** 5\n",
        "#print(c)\n",
        "\n",
        "c = 13 // 3\n",
        "print(c)"
      ],
      "metadata": {
        "colab": {
          "base_uri": "https://localhost:8080/"
        },
        "id": "LuEAJiOhsg-6",
        "outputId": "6688b700-bcb4-4cce-e740-43a0e4f0198e"
      },
      "execution_count": 4,
      "outputs": [
        {
          "output_type": "stream",
          "name": "stdout",
          "text": [
            "4\n"
          ]
        }
      ]
    },
    {
      "cell_type": "code",
      "source": [
        "# 4. Operadores Relacionais Simples.\n",
        "\n",
        "# 8 > 9\n",
        "# 9,9 < 15\n",
        "\n",
        "notaA = 7\n",
        "notaB = 10\n",
        "notaA = notaB\n",
        "print(notaA)"
      ],
      "metadata": {
        "colab": {
          "base_uri": "https://localhost:8080/"
        },
        "id": "wRuSY_o-s_bN",
        "outputId": "d2c27037-6d2d-4bb4-b6d2-23b0e70f3aea"
      },
      "execution_count": 6,
      "outputs": [
        {
          "output_type": "stream",
          "name": "stdout",
          "text": [
            "10\n"
          ]
        }
      ]
    },
    {
      "cell_type": "code",
      "source": [
        "# 5. Operadores Relacionais Compostos.\n",
        "#na = 5\n",
        "#nd = 7\n",
        "#nc = 10\n",
        "#nb = 8\n",
        "#na >= nb\n",
        "#7 >= 6\n",
        "#print('Estudante aprovado!')\n",
        "#7 <= 10\n",
        "a = 10\n",
        "b = 9\n",
        "a != b"
      ],
      "metadata": {
        "colab": {
          "base_uri": "https://localhost:8080/"
        },
        "id": "0jwKZCo9tTJY",
        "outputId": "b7b703b7-cbd0-492b-b458-1eb25dc92872"
      },
      "execution_count": 7,
      "outputs": [
        {
          "output_type": "execute_result",
          "data": {
            "text/plain": [
              "True"
            ]
          },
          "metadata": {},
          "execution_count": 7
        }
      ]
    },
    {
      "cell_type": "code",
      "source": [
        "nome = input('Digite seu nome: ')\n",
        "print(f'Seu nome é {nome}.')\n",
        "nome = input('Digite seu sobrenome: ')\n",
        "print(f'seu sobrenome é {sobrenome}.')\n"
      ],
      "metadata": {
        "colab": {
          "base_uri": "https://localhost:8080/",
          "height": 262
        },
        "id": "BNk9iMxltsCB",
        "outputId": "4b95abf0-3811-44ba-fac7-f8ea15fe1eef"
      },
      "execution_count": 8,
      "outputs": [
        {
          "name": "stdout",
          "output_type": "stream",
          "text": [
            "Digite seu nome: Almir\n",
            "Seu nome é Almir.\n",
            "Digite seu sobrenome: Henrique\n"
          ]
        },
        {
          "output_type": "error",
          "ename": "NameError",
          "evalue": "ignored",
          "traceback": [
            "\u001b[0;31m---------------------------------------------------------------------------\u001b[0m",
            "\u001b[0;31mNameError\u001b[0m                                 Traceback (most recent call last)",
            "\u001b[0;32m<ipython-input-8-8bc65a8a506f>\u001b[0m in \u001b[0;36m<cell line: 4>\u001b[0;34m()\u001b[0m\n\u001b[1;32m      2\u001b[0m \u001b[0mprint\u001b[0m\u001b[0;34m(\u001b[0m\u001b[0;34mf'Seu nome é {nome}.'\u001b[0m\u001b[0;34m)\u001b[0m\u001b[0;34m\u001b[0m\u001b[0;34m\u001b[0m\u001b[0m\n\u001b[1;32m      3\u001b[0m \u001b[0mnome\u001b[0m \u001b[0;34m=\u001b[0m \u001b[0minput\u001b[0m\u001b[0;34m(\u001b[0m\u001b[0;34m'Digite seu sobrenome: '\u001b[0m\u001b[0;34m)\u001b[0m\u001b[0;34m\u001b[0m\u001b[0;34m\u001b[0m\u001b[0m\n\u001b[0;32m----> 4\u001b[0;31m \u001b[0mprint\u001b[0m\u001b[0;34m(\u001b[0m\u001b[0;34mf'seu sobrenome é {sobrenome}.'\u001b[0m\u001b[0;34m)\u001b[0m\u001b[0;34m\u001b[0m\u001b[0;34m\u001b[0m\u001b[0m\n\u001b[0m",
            "\u001b[0;31mNameError\u001b[0m: name 'sobrenome' is not defined"
          ]
        }
      ]
    },
    {
      "cell_type": "code",
      "source": [
        "idade = int(input('Digite sua idade: '))\n",
        "print(f'Você tem {idade} anos e','Meses' )\n",
        "Ano = int(input('digite o ano que voçê nasceu: '))\n",
        "print(f'ano que voçê nasceu: {Ano}.')"
      ],
      "metadata": {
        "colab": {
          "base_uri": "https://localhost:8080/"
        },
        "id": "Ru1Jl6yVuZHT",
        "outputId": "5d498fe7-18b0-45e0-bd31-b49c83e453c0"
      },
      "execution_count": 19,
      "outputs": [
        {
          "output_type": "stream",
          "name": "stdout",
          "text": [
            "Digite sua idade: 22\n",
            "Você tem 22 anos e Meses\n",
            "digite o ano que voçê nasceu: 2000\n",
            "ano que voçê nasceu: 2000.\n"
          ]
        }
      ]
    },
    {
      "cell_type": "code",
      "source": [
        "peso = float(input('Digite seu peso: '))\n",
        "print(f'Você pesa {peso}KGs')\n",
        "print(type(peso))"
      ],
      "metadata": {
        "id": "n9PcSOCOweEr"
      },
      "execution_count": null,
      "outputs": []
    }
  ]
}