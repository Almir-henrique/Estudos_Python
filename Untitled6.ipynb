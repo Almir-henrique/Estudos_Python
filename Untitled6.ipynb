{
  "nbformat": 4,
  "nbformat_minor": 0,
  "metadata": {
    "colab": {
      "provenance": [],
      "authorship_tag": "ABX9TyM6vyBEgj00WYOXNjgcj0n6",
      "include_colab_link": true
    },
    "kernelspec": {
      "name": "python3",
      "display_name": "Python 3"
    },
    "language_info": {
      "name": "python"
    }
  },
  "cells": [
    {
      "cell_type": "markdown",
      "metadata": {
        "id": "view-in-github",
        "colab_type": "text"
      },
      "source": [
        "<a href=\"https://colab.research.google.com/github/Almir-henrique/Estudos_Python/blob/main/Untitled6.ipynb\" target=\"_parent\"><img src=\"https://colab.research.google.com/assets/colab-badge.svg\" alt=\"Open In Colab\"/></a>"
      ]
    },
    {
      "cell_type": "code",
      "execution_count": 1,
      "metadata": {
        "id": "_e9m38pCsEPd"
      },
      "outputs": [],
      "source": [
        "# DOCENTE: Prof. MSc. Cloves\n",
        "# AULA X: Python Noções OO\n",
        "# Estudante: Almir Henrique\n"
      ]
    },
    {
      "cell_type": "code",
      "source": [
        "class Medico:\n",
        "  def __init__(self, codigo,paciente, medicamento):\n",
        "    self.codigo = codigo\n",
        "    self.paciente = paciente\n",
        "    self.medicamento = medicamento\n",
        "\n",
        "  def sala_de_medicamento(self):\n",
        "    return f\"O Código {self.codigo}, nome {self.paciente} emissão o medicamento {self.medicamento}.\"\n",
        "\n",
        "pessoa = Medico('0012','Alan Michel','dipirona')\n",
        "\n",
        "print(pessoa.sala_de_medicamento())\n"
      ],
      "metadata": {
        "colab": {
          "base_uri": "https://localhost:8080/"
        },
        "id": "JrnO0b19sV2C",
        "outputId": "b5f64e5f-f6d2-497d-ec77-1ad46b8fa84a"
      },
      "execution_count": null,
      "outputs": [
        {
          "output_type": "stream",
          "name": "stdout",
          "text": [
            "O Código 0012, nome Alan Michel emissão o medicamento dipirona.\n"
          ]
        }
      ]
    },
    {
      "cell_type": "code",
      "source": [
        "class Cadastro:\n",
        "  def __init__(self, nome, cpf,data_de_nascimento, email, senha):\n",
        "     self.nome = nome\n",
        "     self.cpf = cpf\n",
        "     self.data_de_nascimento = data_de_nascimento\n",
        "     self.email = email\n",
        "     self. senha = senha\n",
        "\n",
        "  def banco_de_dados(self):\n",
        "    return f\"{self.nome}{self.cpf}{self.data_de_nascimento}{self.email}{self.senha}\"\n",
        "\n",
        "pessoa = Cadastro('Almir' , '222.333.444-0', '14/06/1992','almirhenrique18@gmail.com', 1234)\n",
        "\n",
        "print(pessoa.nome)\n",
        "print(pessoa.cpf)\n",
        "print(pessoa.data_de_nascimento)\n",
        "print(pessoa.email)\n",
        "print(pessoa.senha)\n"
      ],
      "metadata": {
        "colab": {
          "base_uri": "https://localhost:8080/"
        },
        "id": "ulX9Fmkxse8p",
        "outputId": "fb69fa82-58b1-44ad-dd39-68044fc8e264"
      },
      "execution_count": null,
      "outputs": [
        {
          "output_type": "stream",
          "name": "stdout",
          "text": [
            "Almir\n",
            "222.333.444-0\n",
            "14/06/1992\n",
            "almirhenrique18@gmail.com\n",
            "1234\n"
          ]
        }
      ]
    },
    {
      "cell_type": "code",
      "source": [
        "class Hardware:\n",
        "  def __init__(self,placa,processador,memoria,hd,fonte):\n",
        "    self.placa = placa\n",
        "    self.processador = processador\n",
        "    self.memoria = memoria\n",
        "    self.hd = hd\n",
        "    self.fonte = fonte\n",
        "\n",
        "  def dentro(self):\n",
        "    return f\"Meu computador dentro placa de mãe {self.placa}, processador {self.processador}, memória {self.memoria}, disco rigido {self.hd}, fonte de energia {self.fonte}.\"\n",
        "\n",
        "hardware = Hardware('GigaByte','Intel Core 7','RAM 16GB','500GB','750w')\n",
        "\n",
        "print(hardware.dentro())\n"
      ],
      "metadata": {
        "colab": {
          "base_uri": "https://localhost:8080/"
        },
        "id": "XMIsNipQso8E",
        "outputId": "78559276-5f84-482d-b45b-a902f6a6a6f0"
      },
      "execution_count": null,
      "outputs": [
        {
          "output_type": "stream",
          "name": "stdout",
          "text": [
            "Meu computador dentro placa de mãe GigaByte, processador Intel Core 7, memória RAM 16GB, disco rigido 500GB, fonte de energia 750w.\n"
          ]
        }
      ]
    },
    {
      "cell_type": "code",
      "source": [
        "class Carro:\n",
        "  def __init__(self,marca, modelo, portas,cor, motor):\n",
        "    self.marca = marca\n",
        "    self.modelo = modelo\n",
        "    self.portas = portas\n",
        "    self.cor = cor\n",
        "    self.motor = motor\n",
        "\n",
        "  def apresentar(self):\n",
        "      return f\"Meu carro é {self.marca}, modelo e {self.modelo}, tenho {self.portas} portas, cor {self.cor}, motor é {self.motor}.\"\n",
        "\n",
        "pessoa1 = Carro('Volkswagen','Sapce Fox', 4 ,'vermelho',1.6)\n",
        "\n",
        "print(pessoa1.apresentar())"
      ],
      "metadata": {
        "colab": {
          "base_uri": "https://localhost:8080/"
        },
        "id": "lPAxT2cXszHQ",
        "outputId": "e6ea7567-2c49-44ef-ffb4-6ad6d2506689"
      },
      "execution_count": null,
      "outputs": [
        {
          "output_type": "stream",
          "name": "stdout",
          "text": [
            "Meu carro é Volkswagen, modelo e Sapce Fox, tenho 4 portas, cor vermelho, motor é 1.6.\n"
          ]
        }
      ]
    }
  ]
}