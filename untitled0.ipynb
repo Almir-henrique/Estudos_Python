{
  "nbformat": 4,
  "nbformat_minor": 0,
  "metadata": {
    "colab": {
      "provenance": []
    },
    "kernelspec": {
      "name": "python3",
      "display_name": "Python 3"
    },
    "language_info": {
      "name": "python"
    }
  },
  "cells": [
    {
      "cell_type": "code",
      "execution_count": null,
      "metadata": {
        "colab": {
          "base_uri": "https://localhost:8080/"
        },
        "id": "ipv_ZZF0zYPi",
        "outputId": "d1aff596-d799-458b-e5fe-6002e864bb26"
      },
      "outputs": [
        {
          "output_type": "stream",
          "name": "stdout",
          "text": [
            "<class 'str'>\n"
          ]
        }
      ],
      "source": [
        "# ETE CÍCERO DIAS\n",
        "# DOCENTE : hENRIQUE DANTAS\n",
        "# ESTUDANTE: ?\n",
        "# print('henrique')\n",
        "# tipos primitivos De dados\n",
        "d = 'Dados'\n",
        "print(type(d))\n"
      ]
    }
  ]
}